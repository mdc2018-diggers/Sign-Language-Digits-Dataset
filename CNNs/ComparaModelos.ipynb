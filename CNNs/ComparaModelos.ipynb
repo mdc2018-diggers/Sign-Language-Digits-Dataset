{
 "cells": [
  {
   "cell_type": "markdown",
   "metadata": {},
   "source": [
    "# Comparando arquiteturas\n",
    "\n",
    "### Modelo 1:\n",
    "- Fully connected 128 activation relu\n",
    "- Fully connected 10 activation softmax\n",
    "\n",
    "### Modelo 2:\n",
    "- Convolution2D filter 3x3 activation relu\n",
    "- MaxPooling2D filter 3x3 \n",
    "- Dropout 0.2\n",
    "- Flatten\n",
    "- Fully connected 128 activation relu\n",
    "- Fully connected 10 activation softmax\n",
    "\n",
    "### Modelo 3:\n",
    "- Convolution2D filter 5x5 activation relu\n",
    "- MaxPooling2D filter 4x4\n",
    "- Dropout 0.2\n",
    "- Flatten\n",
    "- Fully connected 128 activation relu\n",
    "- Fully connected 10 activation softmax\n",
    "\n",
    "# TODO:  Modelo 4: MobileNet (com freeze em todas as camadas)\n",
    "\n",
    "# TODO:  Modelo 5: VGG16 (com freeze em todas as camadas)\n",
    "\n",
    "\n",
    "# TODO: criar modelos MobileNet e VGG16 com algumas camadas descongeladas"
   ]
  },
  {
   "cell_type": "code",
   "execution_count": null,
   "metadata": {},
   "outputs": [],
   "source": [
    "# seed para Pyhton \n",
    "import random as rn\n",
    "rn.seed(1254)\n",
    "\n",
    "# seed para Tensorflow\n",
    "import tensorflow as tf\n",
    "tf.set_random_seed(89)"
   ]
  },
  {
   "cell_type": "code",
   "execution_count": null,
   "metadata": {},
   "outputs": [],
   "source": [
    "# Configura conjuntos de treinamento e teste \n",
    "# X_train, X_test, Y_train, Y_test\n",
    "%run './SLD-LoadTrainTestSets.ipynb'"
   ]
  },
  {
   "cell_type": "code",
   "execution_count": null,
   "metadata": {},
   "outputs": [],
   "source": [
    "import keras\n",
    "from keras import backend as K\n",
    "from keras.layers.core import Dense, Dropout, Activation, Flatten\n",
    "from keras.models import Sequential, Model, Input\n",
    "from keras.applications.mobilenet import MobileNet\n",
    "from keras.layers import Conv2D, GlobalAveragePooling2D, Reshape, MaxPooling2D\n",
    "from keras.optimizers import Adam"
   ]
  },
  {
   "cell_type": "code",
   "execution_count": null,
   "metadata": {},
   "outputs": [],
   "source": [
    "input_shape = (64,64)\n",
    "adam_lr = 0.0001\n",
    "nb_epochs = 10\n",
    "cm_plot_labels = ['0', '1', '2', '3', '4', '5', '6', '7', '8', '9']\n",
    "validation_split = 0.1\n",
    "batch_size=10\n",
    "resultados = []"
   ]
  },
  {
   "cell_type": "markdown",
   "metadata": {},
   "source": [
    "## Modelo 1 \n",
    "- Fully connected 128 activation relu\n",
    "- Fully connected 10 activation softmax"
   ]
  },
  {
   "cell_type": "code",
   "execution_count": null,
   "metadata": {},
   "outputs": [],
   "source": [
    "model_1 = Sequential()\n",
    "model_1.add(Flatten(input_shape=input_shape))\n",
    "model_1.add(Dense(128, activation='relu'))\n",
    "model_1.add(Dense(10, activation='softmax'))\n",
    "model_1.summary()"
   ]
  },
  {
   "cell_type": "code",
   "execution_count": null,
   "metadata": {},
   "outputs": [],
   "source": [
    "acertos = execute_model(model_1, X_train, Y_train, X_test, Y_test, \n",
    "                        validation_split, batch_size, cm_plot_labels, \n",
    "                        adam_lr, nb_epochs)\n",
    "resultados.append({'modelo': 'model_1', 'acertos': acertos})"
   ]
  },
  {
   "cell_type": "markdown",
   "metadata": {},
   "source": [
    "## Modelo 2\n",
    "- Convolution2D filter 3x3 activation relu\n",
    "- MaxPooling2D filter 3x3 \n",
    "- Dropout 0.2\n",
    "- Flatten\n",
    "- Fully connected 128 activation relu\n",
    "- Fully connected 10 activation softmax"
   ]
  },
  {
   "cell_type": "code",
   "execution_count": null,
   "metadata": {},
   "outputs": [],
   "source": [
    "y = x = Input(shape=(64,64,1))\n",
    "y = Conv2D(3, kernel_size=(3, 3), activation='relu')(y)\n",
    "y = MaxPooling2D(pool_size=(3, 3))(y)\n",
    "y = Dropout(0.2)(y)\n",
    "y = Flatten()(y)\n",
    "y = Dense(128, activation='relu')(y)\n",
    "y = Dense(10, activation='softmax')(y)\n",
    "model_2 = Model(inputs=x, outputs=y)\n",
    "model_2.summary()"
   ]
  },
  {
   "cell_type": "code",
   "execution_count": null,
   "metadata": {},
   "outputs": [],
   "source": [
    "expand_train_X = np.expand_dims(X_train, axis=-1)\n",
    "expand_test_X = np.expand_dims(X_test, axis=-1)"
   ]
  },
  {
   "cell_type": "code",
   "execution_count": null,
   "metadata": {},
   "outputs": [],
   "source": [
    "acertos = execute_model(model_2, expand_train_X, Y_train, expand_test_X, Y_test, \n",
    "                        validation_split, batch_size, cm_plot_labels, \n",
    "                        adam_lr, nb_epochs)\n",
    "resultados.append({'modelo': 'model_2', 'acertos': acertos})"
   ]
  },
  {
   "cell_type": "markdown",
   "metadata": {},
   "source": [
    "## Modelo 3 \n",
    "- Convolution2D filter 5x5 activation relu\n",
    "- MaxPooling2D filter 4x4\n",
    "- Dropout 0.2\n",
    "- Flatten\n",
    "- Fully connected 128 activation relu\n",
    "- Fully connected 10 activation softmax"
   ]
  },
  {
   "cell_type": "code",
   "execution_count": null,
   "metadata": {},
   "outputs": [],
   "source": [
    "y = x = Input(shape=(64,64,1))\n",
    "y = Conv2D(3, kernel_size=(5, 5), activation='relu')(y)\n",
    "y = MaxPooling2D(pool_size=(4, 4))(y)\n",
    "y = Dropout(0.2)(y)\n",
    "y = Flatten()(y)\n",
    "y = Dense(128, activation='relu')(y)\n",
    "y = Dense(10, activation='softmax')(y)\n",
    "model_3 = Model(inputs=x, outputs=y)\n",
    "model_3.summary()"
   ]
  },
  {
   "cell_type": "code",
   "execution_count": null,
   "metadata": {},
   "outputs": [],
   "source": [
    "acertos = execute_model(model_3, expand_train_X, Y_train, expand_test_X, Y_test, \n",
    "                        validation_split, batch_size, cm_plot_labels, \n",
    "                        adam_lr, nb_epochs)\n",
    "resultados.append({'modelo': 'model_3', 'acertos': acertos})"
   ]
  },
  {
   "cell_type": "markdown",
   "metadata": {},
   "source": [
    "## Modelo 4 - MobileNet (com freeze em todas as camadas)"
   ]
  },
  {
   "cell_type": "code",
   "execution_count": null,
   "metadata": {},
   "outputs": [],
   "source": [
    "Y_train.shape"
   ]
  },
  {
   "cell_type": "markdown",
   "metadata": {},
   "source": [
    "## Modelo 5 - VGG16 (com freeze em todas as camadas)"
   ]
  },
  {
   "cell_type": "code",
   "execution_count": null,
   "metadata": {},
   "outputs": [],
   "source": []
  }
 ],
 "metadata": {
  "kernelspec": {
   "display_name": "Python 3",
   "language": "python",
   "name": "python3"
  },
  "language_info": {
   "codemirror_mode": {
    "name": "ipython",
    "version": 3
   },
   "file_extension": ".py",
   "mimetype": "text/x-python",
   "name": "python",
   "nbconvert_exporter": "python",
   "pygments_lexer": "ipython3",
   "version": "3.6.4"
  }
 },
 "nbformat": 4,
 "nbformat_minor": 2
}
