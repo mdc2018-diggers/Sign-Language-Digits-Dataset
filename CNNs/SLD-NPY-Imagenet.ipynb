{
 "cells": [
  {
   "cell_type": "markdown",
   "metadata": {},
   "source": [
    "<a id='topo'></a>\n",
    "\n",
    "# [MobileNet - (128x128)](#sem_imagenet)\n",
    "- rede alterada para grayscale (Input com 1 channel)\n",
    "- realizado resize das imagens para 128x128\n",
    "- fit com 10 epochs\n",
    "\n",
    "\n",
    "# [MobileNet - (128x128) Pesos imagenet](#pesos_imagenet)\n",
    "- rede alterada para grayscale (Input com 1 channel)\n",
    "- realizado resize das imagens para 128x128\n",
    "- fit com 10 epochs\n",
    "- adicionados pesos imagenet e camadas finais (include_top = True)"
   ]
  },
  {
   "cell_type": "code",
   "execution_count": null,
   "metadata": {},
   "outputs": [],
   "source": [
    "# Configura conjuntos de treinamento e teste \n",
    "# X_train, X_test, Y_train, Y_test\n",
    "%run './functions/SLD-LoadTrainTestSets.ipynb'"
   ]
  },
  {
   "cell_type": "code",
   "execution_count": null,
   "metadata": {},
   "outputs": [],
   "source": [
    "import keras\n",
    "from keras import backend as K\n",
    "from keras.layers.core import Dense, Dropout, Activation\n",
    "from keras.models import Model, Input\n",
    "from keras.applications.mobilenet import MobileNet\n",
    "from keras.layers import Conv2D, GlobalAveragePooling2D, Reshape\n",
    "from keras.optimizers import Adam"
   ]
  },
  {
   "cell_type": "code",
   "execution_count": null,
   "metadata": {},
   "outputs": [],
   "source": [
    "X_train = np.array(resize_npy_images(X_train, (128, 128)))\n",
    "X_test = np.array(resize_npy_images(X_test, (128, 128)))"
   ]
  },
  {
   "cell_type": "code",
   "execution_count": null,
   "metadata": {},
   "outputs": [],
   "source": [
    "print('Training shape:', X_train.shape)\n",
    "print('Test shape:', X_test.shape)"
   ]
  },
  {
   "cell_type": "code",
   "execution_count": null,
   "metadata": {},
   "outputs": [],
   "source": [
    "original_input_shape = (128, 128, 3)\n",
    "desired_input_shape = (128, 128, 1)\n",
    "layer_name = 'conv1'\n",
    "\n",
    "weights = None\n",
    "include_top = False\n",
    "\n",
    "adam_lr = 0.0001\n",
    "nb_epochs = 10\n",
    "cm_plot_labels = ['0', '1', '2', '3', '4', '5', '6', '7', '8', '9']\n",
    "validation_split = 0.1\n",
    "batch_size=10"
   ]
  },
  {
   "cell_type": "markdown",
   "metadata": {},
   "source": [
    "---"
   ]
  },
  {
   "cell_type": "markdown",
   "metadata": {},
   "source": [
    "<a id='sem_imagenet'></a>\n",
    "\n",
    "# Rede sem pesos ImageNet e sem Include top\n",
    "\n",
    "[Voltar para topo](#topo)"
   ]
  },
  {
   "cell_type": "code",
   "execution_count": null,
   "metadata": {},
   "outputs": [],
   "source": [
    "base_model = MobileNet(input_shape=original_input_shape,\n",
    "                       weights=weights,\n",
    "                       include_top=include_top)\n",
    "base_model.layers[-1].name"
   ]
  },
  {
   "cell_type": "code",
   "execution_count": null,
   "metadata": {},
   "outputs": [],
   "source": [
    "# Alterando input para grayscale (1 channel)\n",
    "selected_layer = base_model.get_layer(layer_name)\n",
    "selected_layer_index = base_model.layers.index(selected_layer)\n",
    "\n",
    "w = selected_layer.get_weights()\n",
    "w[0] = w[0].mean(axis=2, keepdims=True)\n",
    "\n",
    "y = x = Input(shape=desired_input_shape)\n",
    "\n",
    "attributes = dict(selected_layer.get_config(),\n",
    "                  name=layer_name + '_1',\n",
    "                  weights=w)\n",
    "selected_layer = Conv2D.from_config(attributes)\n",
    "\n",
    "y = selected_layer(y)\n",
    "\n",
    "for layer in base_model.layers[selected_layer_index + 1:]:\n",
    "    y = layer(y)"
   ]
  },
  {
   "cell_type": "code",
   "execution_count": null,
   "metadata": {},
   "outputs": [],
   "source": [
    "# Adicionando camadas representadas pelo include_top=True\n",
    "# camada FC no final da rede\n",
    "y = GlobalAveragePooling2D()(y)\n",
    "y = Reshape((1, 1, 1024))(y)\n",
    "y = Dropout(0.25)(y)\n",
    "y = Conv2D(10, kernel_size=(1, 1), activation='relu')(y)\n",
    "y = Activation('softmax')(y)\n",
    "y = Reshape((10,))(y)"
   ]
  },
  {
   "cell_type": "code",
   "execution_count": null,
   "metadata": {},
   "outputs": [],
   "source": [
    "model = Model(inputs=x, outputs=y)\n",
    "model.summary()"
   ]
  },
  {
   "cell_type": "code",
   "execution_count": null,
   "metadata": {},
   "outputs": [],
   "source": [
    "# Congela camadas\n",
    "# for layer in model.layers:\n",
    "#     layer.trainable = False"
   ]
  },
  {
   "cell_type": "code",
   "execution_count": null,
   "metadata": {},
   "outputs": [],
   "source": [
    "expand_train_X = np.expand_dims(X_train, axis=-1)\n",
    "expand_test_X = np.expand_dims(X_test, axis=-1)"
   ]
  },
  {
   "cell_type": "code",
   "execution_count": null,
   "metadata": {},
   "outputs": [],
   "source": [
    "%%time\n",
    "acertos, pred = execute_model(model, expand_train_X, Y_train, expand_test_X, Y_test,\n",
    "                              validation_split, batch_size, cm_plot_labels, \n",
    "                              adam_lr, nb_epochs)"
   ]
  },
  {
   "cell_type": "markdown",
   "metadata": {},
   "source": [
    "---"
   ]
  },
  {
   "cell_type": "markdown",
   "metadata": {},
   "source": [
    "<a id='pesos_imagenet'></a>\n",
    "\n",
    "# Rede com pesos ImageNet e com Include top\n",
    "\n",
    "[Voltar para topo](#topo)"
   ]
  },
  {
   "cell_type": "code",
   "execution_count": null,
   "metadata": {},
   "outputs": [],
   "source": [
    "weights = 'imagenet'\n",
    "include_top = True"
   ]
  },
  {
   "cell_type": "code",
   "execution_count": null,
   "metadata": {},
   "outputs": [],
   "source": [
    "base_model = MobileNet(input_shape=original_input_shape,\n",
    "                       weights=weights,\n",
    "                       include_top=include_top)\n",
    "base_model.layers[-1].name"
   ]
  },
  {
   "cell_type": "code",
   "execution_count": null,
   "metadata": {},
   "outputs": [],
   "source": [
    "base_model.summary()"
   ]
  },
  {
   "cell_type": "code",
   "execution_count": null,
   "metadata": {},
   "outputs": [],
   "source": [
    "# Alterando input para grayscale (1 channel)\n",
    "selected_layer = base_model.get_layer(layer_name)\n",
    "selected_layer_index = base_model.layers.index(selected_layer)\n",
    "\n",
    "w = selected_layer.get_weights()\n",
    "w[0] = w[0].mean(axis=2, keepdims=True)\n",
    "\n",
    "y = x = Input(shape=desired_input_shape)\n",
    "\n",
    "attributes = dict(selected_layer.get_config(),\n",
    "                  name=layer_name + '_1',\n",
    "                  weights=w)\n",
    "selected_layer = Conv2D.from_config(attributes)\n",
    "\n",
    "y = selected_layer(y)\n",
    "\n",
    "for layer in base_model.layers[selected_layer_index + 1:-4]:\n",
    "    y = layer(y)"
   ]
  },
  {
   "cell_type": "code",
   "execution_count": null,
   "metadata": {},
   "outputs": [],
   "source": [
    "# Adicionando camadas representadas pelo include_top=True\n",
    "# camada FC no final da rede\n",
    "# y = GlobalAveragePooling2D()(y)\n",
    "# y = Reshape((1, 1, 1024))(y)\n",
    "y = Dropout(0.25)(y)\n",
    "y = Conv2D(10, kernel_size=(1, 1), activation='relu')(y)\n",
    "y = Activation('softmax')(y)\n",
    "y = Reshape((10,))(y)"
   ]
  },
  {
   "cell_type": "code",
   "execution_count": null,
   "metadata": {},
   "outputs": [],
   "source": [
    "model = Model(inputs=x, outputs=y)\n",
    "model.summary()"
   ]
  },
  {
   "cell_type": "code",
   "execution_count": null,
   "metadata": {},
   "outputs": [],
   "source": [
    "# Congela camadas\n",
    "# for layer in model.layers:\n",
    "#     layer.trainable = False"
   ]
  },
  {
   "cell_type": "code",
   "execution_count": null,
   "metadata": {},
   "outputs": [],
   "source": [
    "expand_train_X = np.expand_dims(X_train, axis=-1)\n",
    "expand_test_X = np.expand_dims(X_test, axis=-1)"
   ]
  },
  {
   "cell_type": "code",
   "execution_count": null,
   "metadata": {},
   "outputs": [],
   "source": [
    "%%time\n",
    "acertos, pred = execute_model(model, expand_train_X, Y_train, expand_test_X, Y_test,\n",
    "                              validation_split, batch_size, cm_plot_labels, \n",
    "                              adam_lr, nb_epochs)"
   ]
  },
  {
   "cell_type": "markdown",
   "metadata": {},
   "source": [
    "---"
   ]
  },
  {
   "cell_type": "code",
   "execution_count": null,
   "metadata": {},
   "outputs": [],
   "source": [
    "307/310"
   ]
  },
  {
   "cell_type": "markdown",
   "metadata": {},
   "source": [
    "[Voltar para topo](#topo)"
   ]
  },
  {
   "cell_type": "markdown",
   "metadata": {},
   "source": [
    "# Cria arquivo h5 com modelo da CNN"
   ]
  },
  {
   "cell_type": "code",
   "execution_count": null,
   "metadata": {},
   "outputs": [],
   "source": [
    "model.save('SLD_MOBILENET_IMAGENET_CNN.h5')"
   ]
  }
 ],
 "metadata": {
  "kernelspec": {
   "display_name": "Python 3",
   "language": "python",
   "name": "python3"
  },
  "language_info": {
   "codemirror_mode": {
    "name": "ipython",
    "version": 3
   },
   "file_extension": ".py",
   "mimetype": "text/x-python",
   "name": "python",
   "nbconvert_exporter": "python",
   "pygments_lexer": "ipython3",
   "version": "3.6.4"
  }
 },
 "nbformat": 4,
 "nbformat_minor": 2
}
