{
 "cells": [
  {
   "cell_type": "markdown",
   "metadata": {},
   "source": [
    "## Carregar dataset - Sign Language Digits"
   ]
  },
  {
   "cell_type": "markdown",
   "metadata": {},
   "source": [
    "- sign **9** is between indexes **0** and **203**\n",
    "- sign **0** is between indexes **204** and **408**\n",
    "- sign **7** is between indexes **409** and **614**\n",
    "- sign **6** is between indexes **615** and **821**\n",
    "- sign **1** is between indexes **822** and **1027**\n",
    "- sign **8** is between indexes **1028** and **1235**\n",
    "- sign **4** is between indexes **1236** and **1442**\n",
    "- sign **3** is between indexes **1443** and **1648**\n",
    "- sign **2** is between indexes **1649** and **1854**\n",
    "- sign **5** is between indexes **1855** and **2061**"
   ]
  },
  {
   "cell_type": "code",
   "execution_count": 5,
   "metadata": {},
   "outputs": [],
   "source": [
    "import numpy as np\n",
    "np.random.seed(42) # Setting the seed for numpy\n",
    "\n",
    "import pandas as pd"
   ]
  },
  {
   "cell_type": "code",
   "execution_count": 6,
   "metadata": {},
   "outputs": [],
   "source": [
    "def get_label(index):\n",
    "    correct_label = [9, 0, 7, 6, 1, 8, 4, 3, 2, 5]\n",
    "    return correct_label[index]\n",
    "\n",
    "def get_labels(indexes):\n",
    "    return [get_label(index) for index in indexes]"
   ]
  },
  {
   "cell_type": "code",
   "execution_count": 7,
   "metadata": {},
   "outputs": [],
   "source": [
    "# load data set\n",
    "def load_sld_data(dataset_path='./npy_dataset/'):\n",
    "    all_X = np.load(dataset_path + 'X.npy')\n",
    "    all_Y = np.load(dataset_path + 'Y.npy')\n",
    "\n",
    "    # Get the true classes for those images.\n",
    "    all_Y = np.asarray(get_labels(np.argmax(all_Y, axis=1)))\n",
    "    return all_X, all_Y"
   ]
  },
  {
   "cell_type": "code",
   "execution_count": null,
   "metadata": {},
   "outputs": [],
   "source": []
  }
 ],
 "metadata": {
  "kernelspec": {
   "display_name": "Python 3",
   "language": "python",
   "name": "python3"
  },
  "language_info": {
   "codemirror_mode": {
    "name": "ipython",
    "version": 3
   },
   "file_extension": ".py",
   "mimetype": "text/x-python",
   "name": "python",
   "nbconvert_exporter": "python",
   "pygments_lexer": "ipython3",
   "version": "3.6.4"
  }
 },
 "nbformat": 4,
 "nbformat_minor": 2
}
