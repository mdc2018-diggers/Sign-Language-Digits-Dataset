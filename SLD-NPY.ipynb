{
 "cells": [
  {
   "cell_type": "code",
   "execution_count": null,
   "metadata": {},
   "outputs": [],
   "source": [
    "# Configura conjuntos de treinamento e teste \n",
    "# X_train, X_test, Y_train, Y_test\n",
    "%run './SLD-LoadTrainTestSets.ipynb'"
   ]
  },
  {
   "cell_type": "code",
   "execution_count": null,
   "metadata": {},
   "outputs": [],
   "source": [
    "import keras\n",
    "from keras import backend as K\n",
    "from keras.layers.core import Dense, Dropout, Activation\n",
    "from keras.models import Model, Input\n",
    "from keras.applications.mobilenet import MobileNet\n",
    "from keras.layers import Conv2D, GlobalAveragePooling2D, Reshape\n",
    "from keras.optimizers import Adam"
   ]
  },
  {
   "cell_type": "code",
   "execution_count": null,
   "metadata": {},
   "outputs": [],
   "source": [
    "original_input_shape = (64, 64, 3)\n",
    "desired_input_shape = (64, 64, 1)\n",
    "layer_name = 'conv1'\n",
    "\n",
    "weights = None\n",
    "include_top = False"
   ]
  },
  {
   "cell_type": "markdown",
   "metadata": {},
   "source": [
    "---"
   ]
  },
  {
   "cell_type": "markdown",
   "metadata": {},
   "source": [
    "# Adicionando camadas no final\n",
    "_________________________________________________________________\n",
    "global_average_pooling2d_6 ( (None, 1024)              0         \n",
    "_________________________________________________________________\n",
    "reshape_1 (Reshape)          (None, 1, 1, 1024)        0         \n",
    "_________________________________________________________________\n",
    "dropout (Dropout)            (None, 1, 1, 1024)        0         \n",
    "_________________________________________________________________\n",
    "conv_preds (Conv2D)          (None, 1, 1, 10)        ???   \n",
    "_________________________________________________________________\n",
    "act_softmax (Activation)     (None, 1, 1, 10)        0         "
   ]
  },
  {
   "cell_type": "code",
   "execution_count": null,
   "metadata": {},
   "outputs": [],
   "source": [
    "# Configuração necessária para imagens 64x64\n",
    "weights = None\n",
    "include_top = False"
   ]
  },
  {
   "cell_type": "code",
   "execution_count": null,
   "metadata": {},
   "outputs": [],
   "source": [
    "base_model = MobileNet(input_shape=original_input_shape,\n",
    "                       weights=weights,\n",
    "                       include_top=include_top)\n",
    "base_model.layers[-1].name"
   ]
  },
  {
   "cell_type": "code",
   "execution_count": null,
   "metadata": {},
   "outputs": [],
   "source": [
    "# Alterando input para grayscale (1 channel)\n",
    "selected_layer = base_model.get_layer(layer_name)\n",
    "selected_layer_index = base_model.layers.index(selected_layer)\n",
    "\n",
    "w = selected_layer.get_weights()\n",
    "w[0] = w[0].mean(axis=2, keepdims=True)\n",
    "\n",
    "y = x = Input(shape=desired_input_shape)\n",
    "\n",
    "attributes = dict(selected_layer.get_config(),\n",
    "                  name=layer_name + '_1',\n",
    "                  weights=w)\n",
    "selected_layer = Conv2D.from_config(attributes)\n",
    "\n",
    "y = selected_layer(y)\n",
    "\n",
    "for layer in base_model.layers[selected_layer_index + 1:]:\n",
    "    y = layer(y)"
   ]
  },
  {
   "cell_type": "code",
   "execution_count": null,
   "metadata": {},
   "outputs": [],
   "source": [
    "# Adicionando camadas representadas pelo include_top=True\n",
    "# camada FC no final da rede\n",
    "y = GlobalAveragePooling2D()(y)\n",
    "y = Reshape((1, 1, 1024))(y)\n",
    "y = Dropout(0.25)(y)\n",
    "y = Conv2D(10, kernel_size=(1, 1), activation='relu')(y)\n",
    "y = Activation('softmax')(y)\n",
    "y = Reshape((10,))(y)"
   ]
  },
  {
   "cell_type": "code",
   "execution_count": null,
   "metadata": {},
   "outputs": [],
   "source": [
    "model = Model(inputs=x, outputs=y)\n",
    "model.summary()"
   ]
  },
  {
   "cell_type": "code",
   "execution_count": null,
   "metadata": {},
   "outputs": [],
   "source": [
    "len(model.layers)"
   ]
  },
  {
   "cell_type": "code",
   "execution_count": null,
   "metadata": {},
   "outputs": [],
   "source": [
    "# Congela camadas\n",
    "# for layer in model.layers:\n",
    "#     layer.trainable = False"
   ]
  },
  {
   "cell_type": "code",
   "execution_count": null,
   "metadata": {},
   "outputs": [],
   "source": [
    "adam_lr = 0.0001\n",
    "nb_epochs = 4\n",
    "\n",
    "cm_plot_labels = ['0', '1', '2', '3', '4', '5', '6', '7', '8', '9']"
   ]
  },
  {
   "cell_type": "code",
   "execution_count": null,
   "metadata": {},
   "outputs": [],
   "source": [
    "model.compile(Adam(lr=adam_lr), \n",
    "              loss='categorical_crossentropy', \n",
    "              metrics=['accuracy'])\n",
    "\n",
    "hist = model.fit(X_train, \n",
    "                 Y_train, \n",
    "                 validation_split=0.1, \n",
    "                 batch_size=10, \n",
    "                 epochs=nb_epochs, \n",
    "                 shuffle=True, \n",
    "                 verbose=1)"
   ]
  },
  {
   "cell_type": "code",
   "execution_count": null,
   "metadata": {},
   "outputs": [],
   "source": [
    "model.compile(Adam(lr=adam_lr), \n",
    "              loss='categorical_crossentropy', \n",
    "              metrics=['accuracy'])\n",
    "\n",
    "new_X = expand_dims(X_train, axis=-1)\n",
    "\n",
    "hist = model.fit(new_X, \n",
    "                 Y_train,\n",
    "                 epochs=nb_epochs, \n",
    "                 steps_per_epoch=10,\n",
    "                 shuffle=True, \n",
    "                 verbose=1)"
   ]
  },
  {
   "cell_type": "markdown",
   "metadata": {},
   "source": [
    "---"
   ]
  }
 ],
 "metadata": {
  "kernelspec": {
   "display_name": "Python 3",
   "language": "python",
   "name": "python3"
  },
  "language_info": {
   "codemirror_mode": {
    "name": "ipython",
    "version": 3
   },
   "file_extension": ".py",
   "mimetype": "text/x-python",
   "name": "python",
   "nbconvert_exporter": "python",
   "pygments_lexer": "ipython3",
   "version": "3.6.4"
  }
 },
 "nbformat": 4,
 "nbformat_minor": 2
}
